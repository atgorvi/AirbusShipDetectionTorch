{
 "cells": [
  {
   "cell_type": "code",
   "execution_count": 63,
   "metadata": {
    "collapsed": true,
    "ExecuteTime": {
     "end_time": "2023-06-16T19:38:57.627228800Z",
     "start_time": "2023-06-16T19:38:57.564730200Z"
    }
   },
   "outputs": [],
   "source": [
    "import pandas as pd\n",
    "\n",
    "from sklearn.model_selection import train_test_split"
   ]
  },
  {
   "cell_type": "code",
   "execution_count": 64,
   "outputs": [
    {
     "data": {
      "text/plain": "         ImageId                                      EncodedPixels\n0  00003e153.jpg                                                NaN\n1  0001124c7.jpg                                                NaN\n2  000155de5.jpg  264661 17 265429 33 266197 33 266965 33 267733...\n3  000194a2d.jpg  360486 1 361252 4 362019 5 362785 8 363552 10 ...\n4  000194a2d.jpg  51834 9 52602 9 53370 9 54138 9 54906 9 55674 ...",
      "text/html": "<div>\n<style scoped>\n    .dataframe tbody tr th:only-of-type {\n        vertical-align: middle;\n    }\n\n    .dataframe tbody tr th {\n        vertical-align: top;\n    }\n\n    .dataframe thead th {\n        text-align: right;\n    }\n</style>\n<table border=\"1\" class=\"dataframe\">\n  <thead>\n    <tr style=\"text-align: right;\">\n      <th></th>\n      <th>ImageId</th>\n      <th>EncodedPixels</th>\n    </tr>\n  </thead>\n  <tbody>\n    <tr>\n      <th>0</th>\n      <td>00003e153.jpg</td>\n      <td>NaN</td>\n    </tr>\n    <tr>\n      <th>1</th>\n      <td>0001124c7.jpg</td>\n      <td>NaN</td>\n    </tr>\n    <tr>\n      <th>2</th>\n      <td>000155de5.jpg</td>\n      <td>264661 17 265429 33 266197 33 266965 33 267733...</td>\n    </tr>\n    <tr>\n      <th>3</th>\n      <td>000194a2d.jpg</td>\n      <td>360486 1 361252 4 362019 5 362785 8 363552 10 ...</td>\n    </tr>\n    <tr>\n      <th>4</th>\n      <td>000194a2d.jpg</td>\n      <td>51834 9 52602 9 53370 9 54138 9 54906 9 55674 ...</td>\n    </tr>\n  </tbody>\n</table>\n</div>"
     },
     "execution_count": 64,
     "metadata": {},
     "output_type": "execute_result"
    }
   ],
   "source": [
    "# Read dataframe\n",
    "full_df = pd.read_csv(\"./dataset/train_ship_segmentations_v2.csv\")\n",
    "full_df.head()"
   ],
   "metadata": {
    "collapsed": false,
    "ExecuteTime": {
     "end_time": "2023-06-16T19:38:58.810751200Z",
     "start_time": "2023-06-16T19:38:57.580356800Z"
    }
   }
  },
  {
   "cell_type": "code",
   "execution_count": 65,
   "outputs": [
    {
     "data": {
      "text/plain": "         ImageId  ships  has_ship has_ship_vec\n0  00003e153.jpg      0       0.0        [0.0]\n1  0001124c7.jpg      0       0.0        [0.0]\n2  000155de5.jpg      1       1.0        [1.0]\n3  000194a2d.jpg      5       1.0        [1.0]\n4  0001b1832.jpg      0       0.0        [0.0]",
      "text/html": "<div>\n<style scoped>\n    .dataframe tbody tr th:only-of-type {\n        vertical-align: middle;\n    }\n\n    .dataframe tbody tr th {\n        vertical-align: top;\n    }\n\n    .dataframe thead th {\n        text-align: right;\n    }\n</style>\n<table border=\"1\" class=\"dataframe\">\n  <thead>\n    <tr style=\"text-align: right;\">\n      <th></th>\n      <th>ImageId</th>\n      <th>ships</th>\n      <th>has_ship</th>\n      <th>has_ship_vec</th>\n    </tr>\n  </thead>\n  <tbody>\n    <tr>\n      <th>0</th>\n      <td>00003e153.jpg</td>\n      <td>0</td>\n      <td>0.0</td>\n      <td>[0.0]</td>\n    </tr>\n    <tr>\n      <th>1</th>\n      <td>0001124c7.jpg</td>\n      <td>0</td>\n      <td>0.0</td>\n      <td>[0.0]</td>\n    </tr>\n    <tr>\n      <th>2</th>\n      <td>000155de5.jpg</td>\n      <td>1</td>\n      <td>1.0</td>\n      <td>[1.0]</td>\n    </tr>\n    <tr>\n      <th>3</th>\n      <td>000194a2d.jpg</td>\n      <td>5</td>\n      <td>1.0</td>\n      <td>[1.0]</td>\n    </tr>\n    <tr>\n      <th>4</th>\n      <td>0001b1832.jpg</td>\n      <td>0</td>\n      <td>0.0</td>\n      <td>[0.0]</td>\n    </tr>\n  </tbody>\n</table>\n</div>"
     },
     "execution_count": 65,
     "metadata": {},
     "output_type": "execute_result"
    }
   ],
   "source": [
    "# Count amount of ships on each single image\n",
    "full_df[\"ships\"] = full_df[\"EncodedPixels\"].map(lambda c_row: 1 if isinstance(c_row, str) else 0)\n",
    "grouped_full_df = full_df.groupby(\"ImageId\").agg({\"ships\": \"sum\"}).reset_index()\n",
    "grouped_full_df[\"has_ship\"] = grouped_full_df[\"ships\"].map(lambda x: 1.0 if x>0 else 0.0)\n",
    "grouped_full_df[\"has_ship_vec\"] = grouped_full_df[\"has_ship\"].map(lambda x: [x])\n",
    "\n",
    "grouped_full_df.head()"
   ],
   "metadata": {
    "collapsed": false,
    "ExecuteTime": {
     "end_time": "2023-06-16T19:38:59.545669300Z",
     "start_time": "2023-06-16T19:38:58.810751200Z"
    }
   }
  },
  {
   "cell_type": "code",
   "execution_count": 66,
   "outputs": [
    {
     "data": {
      "text/plain": "                    ImageId  ships  has_ship has_ship_vec\nships                                                    \n3     181778  f1c202ded.jpg      3       1.0        [1.0]\n      81525   6c4978481.jpg      3       1.0        [1.0]\n2     20857   1bbde0436.jpg      2       1.0        [1.0]\n0     159060  d3a94e9b2.jpg      0       0.0        [0.0]\n      79043   69038bc40.jpg      0       0.0        [0.0]\n      144094  bf97306b5.jpg      0       0.0        [0.0]\n6     90716   787b491df.jpg      6       1.0        [1.0]\n1     92687   7b2222397.jpg      1       1.0        [1.0]\n3     87228   73d86f282.jpg      3       1.0        [1.0]\n10    22623   1e0b06edb.jpg     10       1.0        [1.0]",
      "text/html": "<div>\n<style scoped>\n    .dataframe tbody tr th:only-of-type {\n        vertical-align: middle;\n    }\n\n    .dataframe tbody tr th {\n        vertical-align: top;\n    }\n\n    .dataframe thead th {\n        text-align: right;\n    }\n</style>\n<table border=\"1\" class=\"dataframe\">\n  <thead>\n    <tr style=\"text-align: right;\">\n      <th></th>\n      <th></th>\n      <th>ImageId</th>\n      <th>ships</th>\n      <th>has_ship</th>\n      <th>has_ship_vec</th>\n    </tr>\n    <tr>\n      <th>ships</th>\n      <th></th>\n      <th></th>\n      <th></th>\n      <th></th>\n      <th></th>\n    </tr>\n  </thead>\n  <tbody>\n    <tr>\n      <th rowspan=\"2\" valign=\"top\">3</th>\n      <th>181778</th>\n      <td>f1c202ded.jpg</td>\n      <td>3</td>\n      <td>1.0</td>\n      <td>[1.0]</td>\n    </tr>\n    <tr>\n      <th>81525</th>\n      <td>6c4978481.jpg</td>\n      <td>3</td>\n      <td>1.0</td>\n      <td>[1.0]</td>\n    </tr>\n    <tr>\n      <th>2</th>\n      <th>20857</th>\n      <td>1bbde0436.jpg</td>\n      <td>2</td>\n      <td>1.0</td>\n      <td>[1.0]</td>\n    </tr>\n    <tr>\n      <th rowspan=\"3\" valign=\"top\">0</th>\n      <th>159060</th>\n      <td>d3a94e9b2.jpg</td>\n      <td>0</td>\n      <td>0.0</td>\n      <td>[0.0]</td>\n    </tr>\n    <tr>\n      <th>79043</th>\n      <td>69038bc40.jpg</td>\n      <td>0</td>\n      <td>0.0</td>\n      <td>[0.0]</td>\n    </tr>\n    <tr>\n      <th>144094</th>\n      <td>bf97306b5.jpg</td>\n      <td>0</td>\n      <td>0.0</td>\n      <td>[0.0]</td>\n    </tr>\n    <tr>\n      <th>6</th>\n      <th>90716</th>\n      <td>787b491df.jpg</td>\n      <td>6</td>\n      <td>1.0</td>\n      <td>[1.0]</td>\n    </tr>\n    <tr>\n      <th>1</th>\n      <th>92687</th>\n      <td>7b2222397.jpg</td>\n      <td>1</td>\n      <td>1.0</td>\n      <td>[1.0]</td>\n    </tr>\n    <tr>\n      <th>3</th>\n      <th>87228</th>\n      <td>73d86f282.jpg</td>\n      <td>3</td>\n      <td>1.0</td>\n      <td>[1.0]</td>\n    </tr>\n    <tr>\n      <th>10</th>\n      <th>22623</th>\n      <td>1e0b06edb.jpg</td>\n      <td>10</td>\n      <td>1.0</td>\n      <td>[1.0]</td>\n    </tr>\n  </tbody>\n</table>\n</div>"
     },
     "execution_count": 66,
     "metadata": {},
     "output_type": "execute_result"
    }
   ],
   "source": [
    "# Balance unbalanced df\n",
    "# Sample images using amount of ships on it, take all if there are fewer images than SAMPLES_PER_GROUP (min(images_amount, SAMPLES_PER_GROUP))\n",
    "SAMPLES_PER_GROUP = 3000\n",
    "balanced_full_df = grouped_full_df.groupby(\"ships\").apply(lambda x: x.sample(SAMPLES_PER_GROUP) if len(x) > SAMPLES_PER_GROUP else x)\n",
    "\n",
    "balanced_full_df.sample(10)"
   ],
   "metadata": {
    "collapsed": false,
    "ExecuteTime": {
     "end_time": "2023-06-16T19:38:59.686297300Z",
     "start_time": "2023-06-16T19:38:59.545669300Z"
    }
   }
  },
  {
   "cell_type": "code",
   "execution_count": 67,
   "outputs": [
    {
     "name": "stdout",
     "output_type": "stream",
     "text": [
      "training images: 38455 validation images: 12816\n"
     ]
    }
   ],
   "source": [
    "# Split into train and validation parts\n",
    "train_ids, val_ids = train_test_split(balanced_full_df,\n",
    "                                        test_size = 0.25,\n",
    "                                        stratify = balanced_full_df[\"ships\"])\n",
    "train_df = pd.merge(full_df, train_ids.drop(columns=[\"ships\"]))[[\"ImageId\", \"EncodedPixels\"]]\n",
    "val_df = pd.merge(full_df, val_ids.drop(columns=[\"ships\"]))[[\"ImageId\", \"EncodedPixels\"]]\n",
    "\n",
    "print(f\"training images: {train_df.shape[0]} validation images: {val_df.shape[0]}\")"
   ],
   "metadata": {
    "collapsed": false,
    "ExecuteTime": {
     "end_time": "2023-06-16T19:38:59.973928800Z",
     "start_time": "2023-06-16T19:38:59.639417300Z"
    }
   }
  },
  {
   "cell_type": "code",
   "execution_count": 68,
   "outputs": [],
   "source": [
    "train_df.to_csv(\"train_df.csv\", index=False)\n",
    "val_df.to_csv(\"val_df.csv\", index=False)"
   ],
   "metadata": {
    "collapsed": false,
    "ExecuteTime": {
     "end_time": "2023-06-16T19:39:01.085128700Z",
     "start_time": "2023-06-16T19:38:59.958304400Z"
    }
   }
  }
 ],
 "metadata": {
  "kernelspec": {
   "display_name": "Python 3",
   "language": "python",
   "name": "python3"
  },
  "language_info": {
   "codemirror_mode": {
    "name": "ipython",
    "version": 2
   },
   "file_extension": ".py",
   "mimetype": "text/x-python",
   "name": "python",
   "nbconvert_exporter": "python",
   "pygments_lexer": "ipython2",
   "version": "2.7.6"
  }
 },
 "nbformat": 4,
 "nbformat_minor": 0
}
